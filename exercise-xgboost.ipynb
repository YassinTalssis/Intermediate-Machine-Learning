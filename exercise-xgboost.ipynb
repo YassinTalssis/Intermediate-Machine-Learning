{
 "cells": [
  {
   "cell_type": "markdown",
   "id": "ac51bdb5",
   "metadata": {
    "papermill": {
     "duration": 0.005719,
     "end_time": "2022-07-15T18:16:10.153082",
     "exception": false,
     "start_time": "2022-07-15T18:16:10.147363",
     "status": "completed"
    },
    "tags": []
   },
   "source": [
    "**This notebook is an exercise in the [Intermediate Machine Learning](https://www.kaggle.com/learn/intermediate-machine-learning) course.  You can reference the tutorial at [this link](https://www.kaggle.com/alexisbcook/xgboost).**\n",
    "\n",
    "---\n"
   ]
  },
  {
   "cell_type": "markdown",
   "id": "362af8e0",
   "metadata": {
    "papermill": {
     "duration": 0.004367,
     "end_time": "2022-07-15T18:16:10.162333",
     "exception": false,
     "start_time": "2022-07-15T18:16:10.157966",
     "status": "completed"
    },
    "tags": []
   },
   "source": [
    "In this exercise, you will use your new knowledge to train a model with **gradient boosting**.\n",
    "\n",
    "# Setup\n",
    "\n",
    "The questions below will give you feedback on your work. Run the following cell to set up the feedback system."
   ]
  },
  {
   "cell_type": "code",
   "execution_count": 1,
   "id": "6c91621f",
   "metadata": {
    "execution": {
     "iopub.execute_input": "2022-07-15T18:16:10.173749Z",
     "iopub.status.busy": "2022-07-15T18:16:10.173218Z",
     "iopub.status.idle": "2022-07-15T18:16:15.858236Z",
     "shell.execute_reply": "2022-07-15T18:16:15.857148Z"
    },
    "papermill": {
     "duration": 5.693831,
     "end_time": "2022-07-15T18:16:15.860817",
     "exception": false,
     "start_time": "2022-07-15T18:16:10.166986",
     "status": "completed"
    },
    "tags": []
   },
   "outputs": [
    {
     "name": "stdout",
     "output_type": "stream",
     "text": [
      "Setup Complete\n"
     ]
    }
   ],
   "source": [
    "# Set up code checking\n",
    "import os\n",
    "if not os.path.exists(\"../input/train.csv\"):\n",
    "    os.symlink(\"../input/home-data-for-ml-course/train.csv\", \"../input/train.csv\")  \n",
    "    os.symlink(\"../input/home-data-for-ml-course/test.csv\", \"../input/test.csv\") \n",
    "from learntools.core import binder\n",
    "binder.bind(globals())\n",
    "from learntools.ml_intermediate.ex6 import *\n",
    "print(\"Setup Complete\")"
   ]
  },
  {
   "cell_type": "markdown",
   "id": "ff12858f",
   "metadata": {
    "papermill": {
     "duration": 0.004893,
     "end_time": "2022-07-15T18:16:15.872046",
     "exception": false,
     "start_time": "2022-07-15T18:16:15.867153",
     "status": "completed"
    },
    "tags": []
   },
   "source": [
    "You will work with the [Housing Prices Competition for Kaggle Learn Users](https://www.kaggle.com/c/home-data-for-ml-course) dataset from the previous exercise. \n",
    "\n",
    "![Ames Housing dataset image](https://i.imgur.com/lTJVG4e.png)\n",
    "\n",
    "Run the next code cell without changes to load the training and validation sets in `X_train`, `X_valid`, `y_train`, and `y_valid`.  The test set is loaded in `X_test`."
   ]
  },
  {
   "cell_type": "code",
   "execution_count": 2,
   "id": "5889c300",
   "metadata": {
    "execution": {
     "iopub.execute_input": "2022-07-15T18:16:15.882342Z",
     "iopub.status.busy": "2022-07-15T18:16:15.882067Z",
     "iopub.status.idle": "2022-07-15T18:16:16.053050Z",
     "shell.execute_reply": "2022-07-15T18:16:16.051941Z"
    },
    "papermill": {
     "duration": 0.179242,
     "end_time": "2022-07-15T18:16:16.055861",
     "exception": false,
     "start_time": "2022-07-15T18:16:15.876619",
     "status": "completed"
    },
    "tags": []
   },
   "outputs": [],
   "source": [
    "import pandas as pd\n",
    "from sklearn.model_selection import train_test_split\n",
    "\n",
    "# Read the data\n",
    "X = pd.read_csv('../input/train.csv', index_col='Id')\n",
    "X_test_full = pd.read_csv('../input/test.csv', index_col='Id')\n",
    "\n",
    "# Remove rows with missing target, separate target from predictors\n",
    "X.dropna(axis=0, subset=['SalePrice'], inplace=True)\n",
    "y = X.SalePrice              \n",
    "X.drop(['SalePrice'], axis=1, inplace=True)\n",
    "\n",
    "# Break off validation set from training data\n",
    "X_train_full, X_valid_full, y_train, y_valid = train_test_split(X, y, train_size=0.8, test_size=0.2,\n",
    "                                                                random_state=0)\n",
    "\n",
    "# \"Cardinality\" means the number of unique values in a column\n",
    "# Select categorical columns with relatively low cardinality (convenient but arbitrary)\n",
    "low_cardinality_cols = [cname for cname in X_train_full.columns if X_train_full[cname].nunique() < 10 and \n",
    "                        X_train_full[cname].dtype == \"object\"]\n",
    "\n",
    "# Select numeric columns\n",
    "numeric_cols = [cname for cname in X_train_full.columns if X_train_full[cname].dtype in ['int64', 'float64']]\n",
    "\n",
    "# Keep selected columns only\n",
    "my_cols = low_cardinality_cols + numeric_cols\n",
    "X_train = X_train_full[my_cols].copy()\n",
    "X_valid = X_valid_full[my_cols].copy()\n",
    "X_test = X_test_full[my_cols].copy()\n",
    "\n",
    "# One-hot encode the data (to shorten the code, we use pandas)\n",
    "X_train = pd.get_dummies(X_train)\n",
    "X_valid = pd.get_dummies(X_valid)\n",
    "X_test = pd.get_dummies(X_test)\n",
    "X_train, X_valid = X_train.align(X_valid, join='left', axis=1)\n",
    "X_train, X_test = X_train.align(X_test, join='left', axis=1)"
   ]
  },
  {
   "cell_type": "markdown",
   "id": "a69e9a99",
   "metadata": {
    "papermill": {
     "duration": 0.004458,
     "end_time": "2022-07-15T18:16:16.065084",
     "exception": false,
     "start_time": "2022-07-15T18:16:16.060626",
     "status": "completed"
    },
    "tags": []
   },
   "source": [
    "# Step 1: Build model\n",
    "\n",
    "### Part A\n",
    "\n",
    "In this step, you'll build and train your first model with gradient boosting.\n",
    "\n",
    "- Begin by setting `my_model_1` to an XGBoost model.  Use the [XGBRegressor](https://xgboost.readthedocs.io/en/latest/python/python_api.html#xgboost.XGBRegressor) class, and set the random seed to 0 (`random_state=0`).  **Leave all other parameters as default.**\n",
    "- Then, fit the model to the training data in `X_train` and `y_train`."
   ]
  },
  {
   "cell_type": "code",
   "execution_count": 3,
   "id": "33879a6c",
   "metadata": {
    "execution": {
     "iopub.execute_input": "2022-07-15T18:16:16.075986Z",
     "iopub.status.busy": "2022-07-15T18:16:16.075166Z",
     "iopub.status.idle": "2022-07-15T18:16:17.097077Z",
     "shell.execute_reply": "2022-07-15T18:16:17.096220Z"
    },
    "papermill": {
     "duration": 1.029627,
     "end_time": "2022-07-15T18:16:17.099169",
     "exception": false,
     "start_time": "2022-07-15T18:16:16.069542",
     "status": "completed"
    },
    "tags": []
   },
   "outputs": [
    {
     "data": {
      "application/javascript": [
       "parent.postMessage({\"jupyterEvent\": \"custom.exercise_interaction\", \"data\": {\"outcomeType\": 1, \"valueTowardsCompletion\": 0.5, \"interactionType\": 1, \"questionType\": 2, \"questionId\": \"1.1_Model1A\", \"learnToolsVersion\": \"0.3.4\", \"failureMessage\": \"\", \"exceptionClass\": \"\", \"trace\": \"\"}}, \"*\")"
      ],
      "text/plain": [
       "<IPython.core.display.Javascript object>"
      ]
     },
     "metadata": {},
     "output_type": "display_data"
    },
    {
     "data": {
      "text/markdown": [
       "<span style=\"color:#33cc33\">Correct</span>"
      ],
      "text/plain": [
       "Correct"
      ]
     },
     "metadata": {},
     "output_type": "display_data"
    }
   ],
   "source": [
    "from xgboost import XGBRegressor\n",
    "\n",
    "# Define the model\n",
    "my_model_1 = XGBRegressor() # Your code here\n",
    "\n",
    "# Fit the model\n",
    "my_model_1.fit(X_train,y_train) # Your code here\n",
    "\n",
    "# Check your answer\n",
    "step_1.a.check()"
   ]
  },
  {
   "cell_type": "code",
   "execution_count": 4,
   "id": "6130235c",
   "metadata": {
    "execution": {
     "iopub.execute_input": "2022-07-15T18:16:17.110237Z",
     "iopub.status.busy": "2022-07-15T18:16:17.109949Z",
     "iopub.status.idle": "2022-07-15T18:16:17.114387Z",
     "shell.execute_reply": "2022-07-15T18:16:17.113302Z"
    },
    "papermill": {
     "duration": 0.012442,
     "end_time": "2022-07-15T18:16:17.116624",
     "exception": false,
     "start_time": "2022-07-15T18:16:17.104182",
     "status": "completed"
    },
    "tags": []
   },
   "outputs": [],
   "source": [
    "# Lines below will give you a hint or solution code\n",
    "#step_1.a.hint()\n",
    "#step_1.a.solution()"
   ]
  },
  {
   "cell_type": "markdown",
   "id": "f642daaa",
   "metadata": {
    "papermill": {
     "duration": 0.004732,
     "end_time": "2022-07-15T18:16:17.126158",
     "exception": false,
     "start_time": "2022-07-15T18:16:17.121426",
     "status": "completed"
    },
    "tags": []
   },
   "source": [
    "### Part B\n",
    "\n",
    "Set `predictions_1` to the model's predictions for the validation data.  Recall that the validation features are stored in `X_valid`."
   ]
  },
  {
   "cell_type": "code",
   "execution_count": 5,
   "id": "e039da15",
   "metadata": {
    "execution": {
     "iopub.execute_input": "2022-07-15T18:16:17.137078Z",
     "iopub.status.busy": "2022-07-15T18:16:17.136828Z",
     "iopub.status.idle": "2022-07-15T18:16:17.155622Z",
     "shell.execute_reply": "2022-07-15T18:16:17.154937Z"
    },
    "papermill": {
     "duration": 0.026616,
     "end_time": "2022-07-15T18:16:17.157568",
     "exception": false,
     "start_time": "2022-07-15T18:16:17.130952",
     "status": "completed"
    },
    "tags": []
   },
   "outputs": [
    {
     "data": {
      "application/javascript": [
       "parent.postMessage({\"jupyterEvent\": \"custom.exercise_interaction\", \"data\": {\"outcomeType\": 1, \"valueTowardsCompletion\": 0.5, \"interactionType\": 1, \"questionType\": 2, \"questionId\": \"1.2_Model1B\", \"learnToolsVersion\": \"0.3.4\", \"failureMessage\": \"\", \"exceptionClass\": \"\", \"trace\": \"\"}}, \"*\")"
      ],
      "text/plain": [
       "<IPython.core.display.Javascript object>"
      ]
     },
     "metadata": {},
     "output_type": "display_data"
    },
    {
     "data": {
      "text/markdown": [
       "<span style=\"color:#33cc33\">Correct</span>"
      ],
      "text/plain": [
       "Correct"
      ]
     },
     "metadata": {},
     "output_type": "display_data"
    }
   ],
   "source": [
    "from sklearn.metrics import mean_absolute_error\n",
    "\n",
    "# Get predictions\n",
    "predictions_1 = my_model_1.predict(X_valid) # Your code here\n",
    "\n",
    "# Check your answer\n",
    "step_1.b.check()"
   ]
  },
  {
   "cell_type": "code",
   "execution_count": 6,
   "id": "40e9ff5f",
   "metadata": {
    "execution": {
     "iopub.execute_input": "2022-07-15T18:16:17.170489Z",
     "iopub.status.busy": "2022-07-15T18:16:17.170185Z",
     "iopub.status.idle": "2022-07-15T18:16:17.174164Z",
     "shell.execute_reply": "2022-07-15T18:16:17.173301Z"
    },
    "papermill": {
     "duration": 0.012147,
     "end_time": "2022-07-15T18:16:17.176065",
     "exception": false,
     "start_time": "2022-07-15T18:16:17.163918",
     "status": "completed"
    },
    "tags": []
   },
   "outputs": [],
   "source": [
    "# Lines below will give you a hint or solution code\n",
    "#step_1.b.hint()\n",
    "#step_1.b.solution()"
   ]
  },
  {
   "cell_type": "markdown",
   "id": "3d06112b",
   "metadata": {
    "papermill": {
     "duration": 0.005209,
     "end_time": "2022-07-15T18:16:17.186538",
     "exception": false,
     "start_time": "2022-07-15T18:16:17.181329",
     "status": "completed"
    },
    "tags": []
   },
   "source": [
    "### Part C\n",
    "\n",
    "Finally, use the `mean_absolute_error()` function to calculate the mean absolute error (MAE) corresponding to the predictions for the validation set.  Recall that the labels for the validation data are stored in `y_valid`."
   ]
  },
  {
   "cell_type": "code",
   "execution_count": 7,
   "id": "1d4534a7",
   "metadata": {
    "execution": {
     "iopub.execute_input": "2022-07-15T18:16:17.198906Z",
     "iopub.status.busy": "2022-07-15T18:16:17.197959Z",
     "iopub.status.idle": "2022-07-15T18:16:17.207232Z",
     "shell.execute_reply": "2022-07-15T18:16:17.206301Z"
    },
    "papermill": {
     "duration": 0.017224,
     "end_time": "2022-07-15T18:16:17.209192",
     "exception": false,
     "start_time": "2022-07-15T18:16:17.191968",
     "status": "completed"
    },
    "tags": []
   },
   "outputs": [
    {
     "data": {
      "application/javascript": [
       "parent.postMessage({\"jupyterEvent\": \"custom.exercise_interaction\", \"data\": {\"outcomeType\": 1, \"valueTowardsCompletion\": 0.5, \"interactionType\": 1, \"questionType\": 2, \"questionId\": \"1.3_Model1C\", \"learnToolsVersion\": \"0.3.4\", \"failureMessage\": \"\", \"exceptionClass\": \"\", \"trace\": \"\"}}, \"*\")"
      ],
      "text/plain": [
       "<IPython.core.display.Javascript object>"
      ]
     },
     "metadata": {},
     "output_type": "display_data"
    },
    {
     "data": {
      "text/markdown": [
       "<span style=\"color:#33cc33\">Correct</span>"
      ],
      "text/plain": [
       "Correct"
      ]
     },
     "metadata": {},
     "output_type": "display_data"
    }
   ],
   "source": [
    "# Calculate MAE\n",
    "mae_1 = mean_absolute_error(predictions_1, y_valid)# Your code here\n",
    "\n",
    "# Uncomment to print MAE\n",
    "# print(\"Mean Absolute Error:\" , mae_1)\n",
    "\n",
    "# Check your answer\n",
    "step_1.c.check()"
   ]
  },
  {
   "cell_type": "code",
   "execution_count": 8,
   "id": "05581de5",
   "metadata": {
    "execution": {
     "iopub.execute_input": "2022-07-15T18:16:17.221865Z",
     "iopub.status.busy": "2022-07-15T18:16:17.220935Z",
     "iopub.status.idle": "2022-07-15T18:16:17.225088Z",
     "shell.execute_reply": "2022-07-15T18:16:17.224217Z"
    },
    "papermill": {
     "duration": 0.012154,
     "end_time": "2022-07-15T18:16:17.226931",
     "exception": false,
     "start_time": "2022-07-15T18:16:17.214777",
     "status": "completed"
    },
    "tags": []
   },
   "outputs": [],
   "source": [
    "# Lines below will give you a hint or solution code\n",
    "#step_1.c.hint()\n",
    "#step_1.c.solution()"
   ]
  },
  {
   "cell_type": "markdown",
   "id": "b14a955d",
   "metadata": {
    "papermill": {
     "duration": 0.005168,
     "end_time": "2022-07-15T18:16:17.238033",
     "exception": false,
     "start_time": "2022-07-15T18:16:17.232865",
     "status": "completed"
    },
    "tags": []
   },
   "source": [
    "# Step 2: Improve the model\n",
    "\n",
    "Now that you've trained a default model as baseline, it's time to tinker with the parameters, to see if you can get better performance!\n",
    "- Begin by setting `my_model_2` to an XGBoost model, using the [XGBRegressor](https://xgboost.readthedocs.io/en/latest/python/python_api.html#xgboost.XGBRegressor) class.  Use what you learned in the previous tutorial to figure out how to change the default parameters (like `n_estimators` and `learning_rate`) to get better results.\n",
    "- Then, fit the model to the training data in `X_train` and `y_train`.\n",
    "- Set `predictions_2` to the model's predictions for the validation data.  Recall that the validation features are stored in `X_valid`.\n",
    "- Finally, use the `mean_absolute_error()` function to calculate the mean absolute error (MAE) corresponding to the predictions on the validation set.  Recall that the labels for the validation data are stored in `y_valid`.\n",
    "\n",
    "In order for this step to be marked correct, your model in `my_model_2` must attain lower MAE than the model in `my_model_1`. "
   ]
  },
  {
   "cell_type": "code",
   "execution_count": 9,
   "id": "f5c1561f",
   "metadata": {
    "execution": {
     "iopub.execute_input": "2022-07-15T18:16:17.250662Z",
     "iopub.status.busy": "2022-07-15T18:16:17.250415Z",
     "iopub.status.idle": "2022-07-15T18:16:22.476476Z",
     "shell.execute_reply": "2022-07-15T18:16:22.475512Z"
    },
    "papermill": {
     "duration": 5.235076,
     "end_time": "2022-07-15T18:16:22.478853",
     "exception": false,
     "start_time": "2022-07-15T18:16:17.243777",
     "status": "completed"
    },
    "tags": []
   },
   "outputs": [
    {
     "name": "stdout",
     "output_type": "stream",
     "text": [
      "Mean Absolute Error: 17195.720275042808\n"
     ]
    },
    {
     "data": {
      "application/javascript": [
       "parent.postMessage({\"jupyterEvent\": \"custom.exercise_interaction\", \"data\": {\"outcomeType\": 1, \"valueTowardsCompletion\": 0.5, \"interactionType\": 1, \"questionType\": 2, \"questionId\": \"2_Model2\", \"learnToolsVersion\": \"0.3.4\", \"failureMessage\": \"\", \"exceptionClass\": \"\", \"trace\": \"\"}}, \"*\")"
      ],
      "text/plain": [
       "<IPython.core.display.Javascript object>"
      ]
     },
     "metadata": {},
     "output_type": "display_data"
    },
    {
     "data": {
      "text/markdown": [
       "<span style=\"color:#33cc33\">Correct</span>"
      ],
      "text/plain": [
       "Correct"
      ]
     },
     "metadata": {},
     "output_type": "display_data"
    }
   ],
   "source": [
    "# Define the model\n",
    "my_model_2 = XGBRegressor(n_estimators=500, learning_rate=0.04) # Your code here\n",
    "\n",
    "# Fit the model\n",
    "my_model_2.fit(X_train,y_train) # Your code here\n",
    "\n",
    "# Get predictions\n",
    "predictions_2 = my_model_2.predict(X_valid) # Your code here\n",
    "\n",
    "# Calculate MAE\n",
    "mae_2 = mean_absolute_error(predictions_2, y_valid)# Your code here\n",
    "\n",
    "# Uncomment to print MAE\n",
    "print(\"Mean Absolute Error:\" , mae_2)\n",
    "\n",
    "# Check your answer\n",
    "step_2.check()"
   ]
  },
  {
   "cell_type": "code",
   "execution_count": 10,
   "id": "c0bb589d",
   "metadata": {
    "execution": {
     "iopub.execute_input": "2022-07-15T18:16:22.502132Z",
     "iopub.status.busy": "2022-07-15T18:16:22.501779Z",
     "iopub.status.idle": "2022-07-15T18:16:22.505765Z",
     "shell.execute_reply": "2022-07-15T18:16:22.504915Z"
    },
    "papermill": {
     "duration": 0.018084,
     "end_time": "2022-07-15T18:16:22.509814",
     "exception": false,
     "start_time": "2022-07-15T18:16:22.491730",
     "status": "completed"
    },
    "tags": []
   },
   "outputs": [],
   "source": [
    "# Lines below will give you a hint or solution code\n",
    "#step_2.hint()\n",
    "#step_2.solution()"
   ]
  },
  {
   "cell_type": "markdown",
   "id": "cca5f28a",
   "metadata": {
    "papermill": {
     "duration": 0.009216,
     "end_time": "2022-07-15T18:16:22.528249",
     "exception": false,
     "start_time": "2022-07-15T18:16:22.519033",
     "status": "completed"
    },
    "tags": []
   },
   "source": [
    "# Step 3: Break the model\n",
    "\n",
    "In this step, you will create a model that performs worse than the original model in Step 1.  This will help you to develop your intuition for how to set parameters.  You might even find that you accidentally get better performance, which is ultimately a nice problem to have and a valuable learning experience!\n",
    "- Begin by setting `my_model_3` to an XGBoost model, using the [XGBRegressor](https://xgboost.readthedocs.io/en/latest/python/python_api.html#xgboost.XGBRegressor) class.  Use what you learned in the previous tutorial to figure out how to change the default parameters (like `n_estimators` and `learning_rate`) to design a model to get high MAE.\n",
    "- Then, fit the model to the training data in `X_train` and `y_train`.\n",
    "- Set `predictions_3` to the model's predictions for the validation data.  Recall that the validation features are stored in `X_valid`.\n",
    "- Finally, use the `mean_absolute_error()` function to calculate the mean absolute error (MAE) corresponding to the predictions on the validation set.  Recall that the labels for the validation data are stored in `y_valid`.\n",
    "\n",
    "In order for this step to be marked correct, your model in `my_model_3` must attain higher MAE than the model in `my_model_1`. "
   ]
  },
  {
   "cell_type": "code",
   "execution_count": 11,
   "id": "f0218de8",
   "metadata": {
    "execution": {
     "iopub.execute_input": "2022-07-15T18:16:22.547864Z",
     "iopub.status.busy": "2022-07-15T18:16:22.547492Z",
     "iopub.status.idle": "2022-07-15T18:16:22.706083Z",
     "shell.execute_reply": "2022-07-15T18:16:22.705391Z"
    },
    "papermill": {
     "duration": 0.17103,
     "end_time": "2022-07-15T18:16:22.708145",
     "exception": false,
     "start_time": "2022-07-15T18:16:22.537115",
     "status": "completed"
    },
    "tags": []
   },
   "outputs": [
    {
     "name": "stdout",
     "output_type": "stream",
     "text": [
      "Mean Absolute Error: 172457.41701141777\n"
     ]
    },
    {
     "data": {
      "application/javascript": [
       "parent.postMessage({\"jupyterEvent\": \"custom.exercise_interaction\", \"data\": {\"outcomeType\": 1, \"valueTowardsCompletion\": 0.5, \"interactionType\": 1, \"questionType\": 2, \"questionId\": \"3_Model3\", \"learnToolsVersion\": \"0.3.4\", \"failureMessage\": \"\", \"exceptionClass\": \"\", \"trace\": \"\"}}, \"*\")"
      ],
      "text/plain": [
       "<IPython.core.display.Javascript object>"
      ]
     },
     "metadata": {},
     "output_type": "display_data"
    },
    {
     "data": {
      "text/markdown": [
       "<span style=\"color:#33cc33\">Correct</span>"
      ],
      "text/plain": [
       "Correct"
      ]
     },
     "metadata": {},
     "output_type": "display_data"
    }
   ],
   "source": [
    "# Define the model\n",
    "my_model_3  = XGBRegressor(n_estimators=1, learning_rate=0.05)\n",
    "\n",
    "# Fit the model\n",
    "my_model_3.fit(X_train, y_train) # Your code here\n",
    "\n",
    "# Get predictions\n",
    "predictions_3 = my_model_3.predict(X_valid)\n",
    "\n",
    "# Calculate MAE\n",
    "mae_3 = mean_absolute_error(predictions_3, y_valid)\n",
    "\n",
    "# Uncomment to print MAE\n",
    "print(\"Mean Absolute Error:\" , mae_3)\n",
    "\n",
    "# Check your answer\n",
    "step_3.check()"
   ]
  },
  {
   "cell_type": "code",
   "execution_count": 12,
   "id": "8b6317e2",
   "metadata": {
    "execution": {
     "iopub.execute_input": "2022-07-15T18:16:22.721873Z",
     "iopub.status.busy": "2022-07-15T18:16:22.721591Z",
     "iopub.status.idle": "2022-07-15T18:16:22.726192Z",
     "shell.execute_reply": "2022-07-15T18:16:22.725360Z"
    },
    "papermill": {
     "duration": 0.013824,
     "end_time": "2022-07-15T18:16:22.728463",
     "exception": false,
     "start_time": "2022-07-15T18:16:22.714639",
     "status": "completed"
    },
    "tags": []
   },
   "outputs": [],
   "source": [
    "# Lines below will give you a hint or solution code\n",
    "#step_3.hint()\n",
    "#step_3.solution()"
   ]
  },
  {
   "cell_type": "markdown",
   "id": "b2905ae5",
   "metadata": {
    "papermill": {
     "duration": 0.005748,
     "end_time": "2022-07-15T18:16:22.740240",
     "exception": false,
     "start_time": "2022-07-15T18:16:22.734492",
     "status": "completed"
    },
    "tags": []
   },
   "source": [
    "# Keep going\n",
    "\n",
    "Continue to learn about **[data leakage](https://www.kaggle.com/alexisbcook/data-leakage)**.  This is an important issue for a data scientist to understand, and it has the potential to ruin your models in subtle and dangerous ways!"
   ]
  },
  {
   "cell_type": "markdown",
   "id": "de659241",
   "metadata": {
    "papermill": {
     "duration": 0.005822,
     "end_time": "2022-07-15T18:16:22.751891",
     "exception": false,
     "start_time": "2022-07-15T18:16:22.746069",
     "status": "completed"
    },
    "tags": []
   },
   "source": [
    "---\n",
    "\n",
    "\n",
    "\n",
    "\n",
    "*Have questions or comments? Visit the [course discussion forum](https://www.kaggle.com/learn/intermediate-machine-learning/discussion) to chat with other learners.*"
   ]
  }
 ],
 "metadata": {
  "kernelspec": {
   "display_name": "Python 3",
   "language": "python",
   "name": "python3"
  },
  "language_info": {
   "codemirror_mode": {
    "name": "ipython",
    "version": 3
   },
   "file_extension": ".py",
   "mimetype": "text/x-python",
   "name": "python",
   "nbconvert_exporter": "python",
   "pygments_lexer": "ipython3",
   "version": "3.7.12"
  },
  "papermill": {
   "default_parameters": {},
   "duration": 22.259807,
   "end_time": "2022-07-15T18:16:23.978743",
   "environment_variables": {},
   "exception": null,
   "input_path": "__notebook__.ipynb",
   "output_path": "__notebook__.ipynb",
   "parameters": {},
   "start_time": "2022-07-15T18:16:01.718936",
   "version": "2.3.4"
  }
 },
 "nbformat": 4,
 "nbformat_minor": 5
}
